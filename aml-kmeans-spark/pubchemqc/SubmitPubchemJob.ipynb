{
 "cells": [
  {
   "cell_type": "code",
   "execution_count": null,
   "metadata": {},
   "outputs": [],
   "source": [
    "!az configure --defaults workspace=<YOUR WORKSPACE>"
   ]
  },
  {
   "cell_type": "code",
   "execution_count": null,
   "metadata": {},
   "outputs": [],
   "source": [
    "!az ml job create --file spark_split_data.yaml"
   ]
  },
  {
   "cell_type": "code",
   "execution_count": null,
   "metadata": {},
   "outputs": [],
   "source": [
    "!az ml component create --file spark_split_data.yaml"
   ]
  },
  {
   "cell_type": "code",
   "execution_count": null,
   "metadata": {},
   "outputs": [],
   "source": [
    "!az ml job create --file parallel_prep_data_for_clustering.yaml "
   ]
  },
  {
   "cell_type": "code",
   "execution_count": null,
   "metadata": {},
   "outputs": [],
   "source": [
    "!az ml component create --file parallel_prep_data_for_clustering.yaml "
   ]
  },
  {
   "cell_type": "code",
   "execution_count": null,
   "metadata": {},
   "outputs": [],
   "source": [
    "!az ml job create --file spark_kmeans.yaml"
   ]
  },
  {
   "cell_type": "code",
   "execution_count": null,
   "metadata": {},
   "outputs": [],
   "source": [
    "!az ml component create --file spark_kmeans.yaml"
   ]
  },
  {
   "cell_type": "code",
   "execution_count": 21,
   "metadata": {},
   "outputs": [
    {
     "name": "stdout",
     "output_type": "stream",
     "text": [
      "{\n",
      "  \"creation_context\": {\n",
      "    \"created_at\": \"2025-01-03T17:08:28.872925+00:00\",\n",
      "    \"created_by\": \"Anton Slutsky\",\n",
      "    \"created_by_type\": \"User\"\n",
      "  },\n",
      "  \"description\": \"Pipeline to partition the pubchemqc dataset using Spark process partitions with AML and cluster using Spark ML Kmeans\",\n",
      "  \"display_name\": \"Pubchem Pipeline\",\n",
      "  \"experiment_name\": \"pubchemqc\",\n",
      "  \"id\": \"azureml:/subscriptions/781b03e7-6eb7-4506-bab8-cf3a0d89b1d4/resourceGroups/antonslutsky-rg/providers/Microsoft.MachineLearningServices/workspaces/gpu-workspace-2/jobs/lucid_fork_f5zgnt8z75\",\n",
      "  \"inputs\": {\n",
      "    \"input_data\": {\n",
      "      \"mode\": \"direct\",\n",
      "      \"path\": \"azureml:pubchemqc_sampled_output:1\",\n",
      "      \"type\": \"uri_file\"\n",
      "    },\n",
      "    \"num_partitions\": \"20\"\n",
      "  },\n",
      "  \"jobs\": {\n",
      "    \"prep_data_for_clustering_parallel\": {\n",
      "      \"component\": \"azureml:prep_data_for_clustering_parallel:2024-12-26-14-53-43-5736851\",\n",
      "      \"compute\": \"azureml:cpu-cluster-mem\",\n",
      "      \"inputs\": {\n",
      "        \"input_data\": {\n",
      "          \"path\": \"${{parent.jobs.spark_split_data.outputs.partitions}}\"\n",
      "        }\n",
      "      },\n",
      "      \"outputs\": {\n",
      "        \"job_output_file\": {\n",
      "          \"mode\": \"rw_mount\",\n",
      "          \"type\": \"uri_file\"\n",
      "        }\n",
      "      },\n",
      "      \"type\": \"command\"\n",
      "    },\n",
      "    \"spark_kmeans\": {\n",
      "      \"component\": \"azureml:spark_kmeans:2024-12-29-01-07-21-2726825\",\n",
      "      \"conf\": {\n",
      "        \"spark.driver.cores\": 1,\n",
      "        \"spark.driver.memory\": \"2g\",\n",
      "        \"spark.executor.cores\": 2,\n",
      "        \"spark.executor.instances\": 2,\n",
      "        \"spark.executor.memory\": \"2g\"\n",
      "      },\n",
      "      \"identity\": {\n",
      "        \"type\": \"user_identity\"\n",
      "      },\n",
      "      \"inputs\": {\n",
      "        \"scaffold_smiles\": {\n",
      "          \"path\": \"${{parent.jobs.prep_data_for_clustering_parallel.outputs.job_output_file}}\"\n",
      "        }\n",
      "      },\n",
      "      \"outputs\": {\n",
      "        \"output_clusters\": \"${{parent.outputs.output_clusters}}\"\n",
      "      },\n",
      "      \"resources\": {\n",
      "        \"instance_type\": \"standard_e4s_v3\",\n",
      "        \"runtime_version\": \"3.3\"\n",
      "      },\n",
      "      \"type\": \"spark\"\n",
      "    },\n",
      "    \"spark_split_data\": {\n",
      "      \"component\": \"azureml:spark_split_data:2024-12-24-16-01-16-0197750\",\n",
      "      \"conf\": {\n",
      "        \"spark.driver.cores\": 1,\n",
      "        \"spark.driver.memory\": \"2g\",\n",
      "        \"spark.executor.cores\": 2,\n",
      "        \"spark.executor.instances\": 2,\n",
      "        \"spark.executor.memory\": \"2g\"\n",
      "      },\n",
      "      \"identity\": {\n",
      "        \"type\": \"user_identity\"\n",
      "      },\n",
      "      \"inputs\": {\n",
      "        \"input_data\": {\n",
      "          \"path\": \"${{parent.inputs.input_data}}\"\n",
      "        },\n",
      "        \"num_partitions\": {\n",
      "          \"path\": \"${{parent.inputs.num_partitions}}\"\n",
      "        }\n",
      "      },\n",
      "      \"outputs\": {\n",
      "        \"partitions\": {\n",
      "          \"mode\": \"direct\",\n",
      "          \"type\": \"uri_folder\"\n",
      "        }\n",
      "      },\n",
      "      \"resources\": {\n",
      "        \"instance_type\": \"standard_e4s_v3\",\n",
      "        \"runtime_version\": \"3.3\"\n",
      "      },\n",
      "      \"type\": \"spark\"\n",
      "    }\n",
      "  },\n",
      "  \"name\": \"lucid_fork_f5zgnt8z75\",\n",
      "  \"outputs\": {\n",
      "    \"output_clusters\": {\n",
      "      \"mode\": \"direct\",\n",
      "      \"type\": \"uri_folder\"\n",
      "    }\n",
      "  },\n",
      "  \"properties\": {\n",
      "    \"azureml.git.dirty\": \"True\",\n",
      "    \"mlflow.source.git.branch\": \"main\",\n",
      "    \"mlflow.source.git.commit\": \"5e63d8d50a0aefc8016e9a1710c9566f2a9f7fd0\",\n",
      "    \"mlflow.source.git.repoURL\": \"https://github.com/antonslutskyms/azureml-unsupervised.git\"\n",
      "  },\n",
      "  \"resourceGroup\": \"antonslutsky-rg\",\n",
      "  \"services\": {\n",
      "    \"Studio\": {\n",
      "      \"endpoint\": \"https://ml.azure.com/runs/lucid_fork_f5zgnt8z75?wsid=/subscriptions/781b03e7-6eb7-4506-bab8-cf3a0d89b1d4/resourcegroups/antonslutsky-rg/workspaces/gpu-workspace-2&tid=16b3c013-d300-468d-ac64-7eda0820b6d3\",\n",
      "      \"type\": \"Studio\"\n",
      "    },\n",
      "    \"Tracking\": {\n",
      "      \"endpoint\": \"azureml://uksouth.api.azureml.ms/mlflow/v1.0/subscriptions/781b03e7-6eb7-4506-bab8-cf3a0d89b1d4/resourceGroups/antonslutsky-rg/providers/Microsoft.MachineLearningServices/workspaces/gpu-workspace-2?\",\n",
      "      \"type\": \"Tracking\"\n",
      "    }\n",
      "  },\n",
      "  \"status\": \"NotStarted\",\n",
      "  \"type\": \"pipeline\"\n",
      "}\n"
     ]
    },
    {
     "name": "stderr",
     "output_type": "stream",
     "text": [
      "Class AutoDeleteSettingSchema: This is an experimental class, and may change at any time. Please see https://aka.ms/azuremlexperimental for more information.\n",
      "Class AutoDeleteConditionSchema: This is an experimental class, and may change at any time. Please see https://aka.ms/azuremlexperimental for more information.\n",
      "Class BaseAutoDeleteSettingSchema: This is an experimental class, and may change at any time. Please see https://aka.ms/azuremlexperimental for more information.\n",
      "Class IntellectualPropertySchema: This is an experimental class, and may change at any time. Please see https://aka.ms/azuremlexperimental for more information.\n",
      "Class ProtectionLevelSchema: This is an experimental class, and may change at any time. Please see https://aka.ms/azuremlexperimental for more information.\n",
      "Class BaseIntellectualPropertySchema: This is an experimental class, and may change at any time. Please see https://aka.ms/azuremlexperimental for more information.\n"
     ]
    }
   ],
   "source": [
    "!az ml job create --file ./pubchemqc_pipeline.yaml"
   ]
  }
 ],
 "metadata": {
  "kernelspec": {
   "display_name": "many_models",
   "language": "python",
   "name": "python3"
  },
  "language_info": {
   "codemirror_mode": {
    "name": "ipython",
    "version": 3
   },
   "file_extension": ".py",
   "mimetype": "text/x-python",
   "name": "python",
   "nbconvert_exporter": "python",
   "pygments_lexer": "ipython3",
   "version": "3.7.6"
  }
 },
 "nbformat": 4,
 "nbformat_minor": 2
}
