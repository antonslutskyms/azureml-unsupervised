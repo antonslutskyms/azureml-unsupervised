{
 "cells": [
  {
   "cell_type": "code",
   "execution_count": null,
   "metadata": {},
   "outputs": [],
   "source": [
    "%%writefile spark_job.yaml\n",
    "$schema: http://azureml/sdk-2-0/SparkJob.json\n",
    "type: spark\n",
    "\n",
    "code: ./src\n",
    "entry:\n",
    "  file: compare_json_data.py\n",
    "\n",
    "conf:\n",
    "  spark.driver.cores: 1\n",
    "  spark.driver.memory: 20g\n",
    "  spark.executor.cores: 8\n",
    "  spark.executor.memory: 100g\n",
    "  spark.executor.instances: 8\n",
    "\n",
    "inputs:\n",
    "  json_data:\n",
    "    type: uri_folder\n",
    "    path: azureml://datastores/workspaceblobstore/paths/azureml/good_street_6s8k63vp2q/output_dir_path/download/data/b3lyp_pm6/train/*.json\n",
    "    mode: direct\n",
    "\n",
    "outputs:\n",
    "  output_data:\n",
    "    type: uri_file\n",
    "    path: azureml://datastores/workspaceblobstore/paths/data/output/result.csv\n",
    "    mode: direct\n",
    "\n",
    "args: >-\n",
    "  --json_data ${{inputs.json_data}}\n",
    "  --output_data ${{outputs.output_data}}\n",
    "\n",
    "identity:\n",
    "  type: user_identity\n",
    "\n",
    "compute: sparkpool"
   ]
  },
  {
   "cell_type": "code",
   "execution_count": null,
   "metadata": {},
   "outputs": [],
   "source": [
    "!az ml job create --file spark_job.yaml"
   ]
  }
 ],
 "metadata": {
  "kernelspec": {
   "display_name": "many_models",
   "language": "python",
   "name": "python3"
  },
  "language_info": {
   "codemirror_mode": {
    "name": "ipython",
    "version": 3
   },
   "file_extension": ".py",
   "mimetype": "text/x-python",
   "name": "python",
   "nbconvert_exporter": "python",
   "pygments_lexer": "ipython3",
   "version": "3.7.6"
  }
 },
 "nbformat": 4,
 "nbformat_minor": 2
}
