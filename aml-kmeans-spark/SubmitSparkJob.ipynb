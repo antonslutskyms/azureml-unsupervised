{
 "cells": [
  {
   "cell_type": "code",
   "execution_count": null,
   "metadata": {},
   "outputs": [],
   "source": [
    "%%writefile spark_job.yaml\n",
    "$schema: http://azureml/sdk-2-0/SparkJob.json\n",
    "type: spark\n",
    "\n",
    "code: ./src\n",
    "entry:\n",
    "  file: compare_json_data.py\n",
    "\n",
    "conf:\n",
    "  spark.driver.cores: 1\n",
    "  spark.driver.memory: 20g\n",
    "  spark.executor.cores: 8\n",
    "  spark.executor.memory: 100g\n",
    "  spark.executor.instances: 8\n",
    "\n",
    "inputs:\n",
    "  json_data:\n",
    "    type: uri_folder\n",
    "    path: azureml://datastores/workspaceblobstore/paths/azureml/good_street_6s8k63vp2q/output_dir_path/download/data/b3lyp_pm6/train/*.json\n",
    "    mode: direct\n",
    "\n",
    "outputs:\n",
    "  output_data:\n",
    "    type: uri_file\n",
    "    path: azureml://datastores/workspaceblobstore/paths/data/output/result.csv\n",
    "    mode: direct\n",
    "\n",
    "args: >-\n",
    "  --json_data ${{inputs.json_data}}\n",
    "  --output_data ${{outputs.output_data}}\n",
    "\n",
    "identity:\n",
    "  type: user_identity\n",
    "\n",
    "compute: sparkpool"
   ]
  },
  {
   "cell_type": "code",
   "execution_count": 75,
   "metadata": {},
   "outputs": [
    {
     "name": "stdout",
     "output_type": "stream",
     "text": [
      "{"
     ]
    },
    {
     "name": "stderr",
     "output_type": "stream",
     "text": [
      "Class AutoDeleteSettingSchema: This is an experimental class, and may change at any time. Please see https://aka.ms/azuremlexperimental for more information.\n",
      "Class AutoDeleteConditionSchema: This is an experimental class, and may change at any time. Please see https://aka.ms/azuremlexperimental for more information.\n",
      "Class BaseAutoDeleteSettingSchema: This is an experimental class, and may change at any time. Please see https://aka.ms/azuremlexperimental for more information.\n",
      "Class IntellectualPropertySchema: This is an experimental class, and may change at any time. Please see https://aka.ms/azuremlexperimental for more information.\n",
      "Class ProtectionLevelSchema: This is an experimental class, and may change at any time. Please see https://aka.ms/azuremlexperimental for more information.\n",
      "Class BaseIntellectualPropertySchema: This is an experimental class, and may change at any time. Please see https://aka.ms/azuremlexperimental for more information.\n",
      "\n",
      "Uploading src (0.0 MBs):   0%|          | 0/3334 [00:00<?, ?it/s]\n",
      "Uploading src (0.0 MBs): 100%|##########| 3334/3334 [00:00<00:00, 42276.15it/s]\n",
      "\n",
      "\n"
     ]
    },
    {
     "name": "stdout",
     "output_type": "stream",
     "text": [
      "\n",
      "  \"args\": \"--json_data ${{inputs.json_data}} --output_data ${{outputs.output_data}}\",\n",
      "  \"code\": \"azureml:/subscriptions/781b03e7-6eb7-4506-bab8-cf3a0d89b1d4/resourceGroups/antonslutsky-rg/providers/Microsoft.MachineLearningServices/workspaces/gpu-workspace-uksouth/codes/390aeb3d-1ccc-4b71-8078-46e67b236fdd/versions/1\",\n",
      "  \"compute\": \"azureml:sparkpool\",\n",
      "  \"conf\": {\n",
      "    \"spark.driver.cores\": 1,\n",
      "    \"spark.driver.memory\": \"20g\",\n",
      "    \"spark.executor.cores\": 8,\n",
      "    \"spark.executor.instances\": 8,\n",
      "    \"spark.executor.memory\": \"100g\"\n",
      "  },\n",
      "  \"display_name\": \"serene_fly_6m4rm3k2fl\",\n",
      "  \"entry\": {\n",
      "    \"file\": \"compare_json_data.py\"\n",
      "  },\n",
      "  \"experiment_name\": \"SparkJob\",\n",
      "  \"identity\": {\n",
      "    \"type\": \"user_identity\"\n",
      "  },\n",
      "  \"inputs\": {\n",
      "    \"json_data\": {\n",
      "      \"mode\": \"direct\",\n",
      "      \"path\": \"azureml://datastores/workspaceblobstore/paths/azureml/good_street_6s8k63vp2q/output_dir_path/download/data/b3lyp_pm6/train/*.json\",\n",
      "      \"type\": \"uri_folder\"\n",
      "    }\n",
      "  },\n",
      "  \"name\": \"serene_fly_6m4rm3k2fl\",\n",
      "  \"outputs\": {\n",
      "    \"default\": {\n",
      "      \"mode\": \"rw_mount\",\n",
      "      \"path\": \"azureml://datastores/workspaceartifactstore/ExperimentRun/dcid.serene_fly_6m4rm3k2fl\",\n",
      "      \"type\": \"uri_folder\"\n",
      "    },\n",
      "    \"output_data\": {\n",
      "      \"mode\": \"direct\",\n",
      "      \"path\": \"azureml://datastores/workspaceblobstore/paths/data/output/result.csv\",\n",
      "      \"type\": \"uri_file\"\n",
      "    }\n",
      "  },\n",
      "  \"properties\": {},\n",
      "  \"services\": {\n",
      "    \"Studio\": {\n",
      "      \"endpoint\": \"https://ml.azure.com/runs/serene_fly_6m4rm3k2fl?wsid=/subscriptions/781b03e7-6eb7-4506-bab8-cf3a0d89b1d4/resourcegroups/antonslutsky-rg/workspaces/gpu-workspace-uksouth&tid=16b3c013-d300-468d-ac64-7eda0820b6d3\"\n",
      "    }\n",
      "  },\n",
      "  \"status\": \"Starting\",\n",
      "  \"tags\": {},\n",
      "  \"type\": \"spark\"\n",
      "}\n"
     ]
    }
   ],
   "source": [
    "!az ml job create --file spark_job.yaml"
   ]
  }
 ],
 "metadata": {
  "kernelspec": {
   "display_name": "many_models",
   "language": "python",
   "name": "python3"
  },
  "language_info": {
   "codemirror_mode": {
    "name": "ipython",
    "version": 3
   },
   "file_extension": ".py",
   "mimetype": "text/x-python",
   "name": "python",
   "nbconvert_exporter": "python",
   "pygments_lexer": "ipython3",
   "version": "3.7.6"
  }
 },
 "nbformat": 4,
 "nbformat_minor": 2
}
